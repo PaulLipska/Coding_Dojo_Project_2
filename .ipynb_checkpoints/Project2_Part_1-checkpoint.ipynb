{
 "cells": [
  {
   "cell_type": "markdown",
   "metadata": {
    "colab_type": "text",
    "id": "view-in-github"
   },
   "source": [
    "<a href=\"https://colab.research.google.com/github/PaulLipska/Codeing_Dojo_Project_2/blob/main/Project2_Part_1.ipynb\" target=\"_parent\"><img src=\"https://colab.research.google.com/assets/colab-badge.svg\" alt=\"Open In Colab\"/></a>"
   ]
  },
  {
   "cell_type": "markdown",
   "metadata": {
    "id": "Khtj7D1y3AmP"
   },
   "source": [
    "#Project2 - Part 1\n",
    "Independent Project Investigation"
   ]
  },
  {
   "cell_type": "markdown",
   "metadata": {
    "id": "eZ4i7hdcAXPi"
   },
   "source": [
    "##Healthcare Dataset Stroke Data"
   ]
  },
  {
   "cell_type": "markdown",
   "metadata": {
    "id": "rUdBNKqhBOiP"
   },
   "source": [
    "### Source of data:"
   ]
  },
  {
   "cell_type": "markdown",
   "metadata": {
    "id": "vFC6jBTAApZT"
   },
   "source": [
    "\n",
    "https://www.kaggle.com/datasets/fedesoriano/stroke-prediction-dataset"
   ]
  },
  {
   "cell_type": "markdown",
   "metadata": {
    "id": "eWQNN3rABIvF"
   },
   "source": [
    "### Description:"
   ]
  },
  {
   "cell_type": "markdown",
   "metadata": {
    "id": "V7TgVpQCA7S3"
   },
   "source": [
    "\n",
    "According to the World Health Organization (WHO) stroke is the 2nd leading cause of death globally, responsible for approximately 11% of total deaths.\n",
    "This dataset is used to predict whether a patient is likely to get stroke based on the input parameters like gender, age, various diseases, and smoking status. Each row in the data provides relavant information about the patient."
   ]
  },
  {
   "cell_type": "markdown",
   "metadata": {
    "id": "NnLMz9J4BDIg"
   },
   "source": [
    "### Target"
   ]
  },
  {
   "cell_type": "markdown",
   "metadata": {
    "id": "69fyB-auBFcQ"
   },
   "source": [
    "Target is \"Stroke\" as function of contributing factors that share a commonality with people who have strokes"
   ]
  },
  {
   "cell_type": "markdown",
   "metadata": {
    "id": "Ktn1kkMgBfZN"
   },
   "source": [
    "### What does one row represent?"
   ]
  },
  {
   "cell_type": "markdown",
   "metadata": {
    "id": "_O29I-OOBki7"
   },
   "source": [
    "The row represents a patient"
   ]
  },
  {
   "cell_type": "code",
   "execution_count": 11,
   "metadata": {
    "colab": {
     "base_uri": "https://localhost:8080/",
     "height": 0
    },
    "id": "lGU-2S09Nqdk",
    "outputId": "230a26a5-aef1-449a-b8c1-08686272f6d8"
   },
   "outputs": [
    {
     "data": {
      "text/html": [
       "<div>\n",
       "<style scoped>\n",
       "    .dataframe tbody tr th:only-of-type {\n",
       "        vertical-align: middle;\n",
       "    }\n",
       "\n",
       "    .dataframe tbody tr th {\n",
       "        vertical-align: top;\n",
       "    }\n",
       "\n",
       "    .dataframe thead th {\n",
       "        text-align: right;\n",
       "    }\n",
       "</style>\n",
       "<table border=\"1\" class=\"dataframe\">\n",
       "  <thead>\n",
       "    <tr style=\"text-align: right;\">\n",
       "      <th></th>\n",
       "      <th>id</th>\n",
       "      <th>gender</th>\n",
       "      <th>age</th>\n",
       "      <th>hypertension</th>\n",
       "      <th>heart_disease</th>\n",
       "      <th>ever_married</th>\n",
       "      <th>work_type</th>\n",
       "      <th>Residence_type</th>\n",
       "      <th>avg_glucose_level</th>\n",
       "      <th>bmi</th>\n",
       "      <th>smoking_status</th>\n",
       "      <th>stroke</th>\n",
       "    </tr>\n",
       "  </thead>\n",
       "  <tbody>\n",
       "    <tr>\n",
       "      <th>0</th>\n",
       "      <td>9046</td>\n",
       "      <td>Male</td>\n",
       "      <td>67.0</td>\n",
       "      <td>0</td>\n",
       "      <td>1</td>\n",
       "      <td>Yes</td>\n",
       "      <td>Private</td>\n",
       "      <td>Urban</td>\n",
       "      <td>228.69</td>\n",
       "      <td>36.6</td>\n",
       "      <td>formerly smoked</td>\n",
       "      <td>1</td>\n",
       "    </tr>\n",
       "    <tr>\n",
       "      <th>1</th>\n",
       "      <td>51676</td>\n",
       "      <td>Female</td>\n",
       "      <td>61.0</td>\n",
       "      <td>0</td>\n",
       "      <td>0</td>\n",
       "      <td>Yes</td>\n",
       "      <td>Self-employed</td>\n",
       "      <td>Rural</td>\n",
       "      <td>202.21</td>\n",
       "      <td>NaN</td>\n",
       "      <td>never smoked</td>\n",
       "      <td>1</td>\n",
       "    </tr>\n",
       "    <tr>\n",
       "      <th>2</th>\n",
       "      <td>31112</td>\n",
       "      <td>Male</td>\n",
       "      <td>80.0</td>\n",
       "      <td>0</td>\n",
       "      <td>1</td>\n",
       "      <td>Yes</td>\n",
       "      <td>Private</td>\n",
       "      <td>Rural</td>\n",
       "      <td>105.92</td>\n",
       "      <td>32.5</td>\n",
       "      <td>never smoked</td>\n",
       "      <td>1</td>\n",
       "    </tr>\n",
       "    <tr>\n",
       "      <th>3</th>\n",
       "      <td>60182</td>\n",
       "      <td>Female</td>\n",
       "      <td>49.0</td>\n",
       "      <td>0</td>\n",
       "      <td>0</td>\n",
       "      <td>Yes</td>\n",
       "      <td>Private</td>\n",
       "      <td>Urban</td>\n",
       "      <td>171.23</td>\n",
       "      <td>34.4</td>\n",
       "      <td>smokes</td>\n",
       "      <td>1</td>\n",
       "    </tr>\n",
       "    <tr>\n",
       "      <th>4</th>\n",
       "      <td>1665</td>\n",
       "      <td>Female</td>\n",
       "      <td>79.0</td>\n",
       "      <td>1</td>\n",
       "      <td>0</td>\n",
       "      <td>Yes</td>\n",
       "      <td>Self-employed</td>\n",
       "      <td>Rural</td>\n",
       "      <td>174.12</td>\n",
       "      <td>24.0</td>\n",
       "      <td>never smoked</td>\n",
       "      <td>1</td>\n",
       "    </tr>\n",
       "  </tbody>\n",
       "</table>\n",
       "</div>"
      ],
      "text/plain": [
       "      id  gender   age  hypertension  heart_disease ever_married  \\\n",
       "0   9046    Male  67.0             0              1          Yes   \n",
       "1  51676  Female  61.0             0              0          Yes   \n",
       "2  31112    Male  80.0             0              1          Yes   \n",
       "3  60182  Female  49.0             0              0          Yes   \n",
       "4   1665  Female  79.0             1              0          Yes   \n",
       "\n",
       "       work_type Residence_type  avg_glucose_level   bmi   smoking_status  \\\n",
       "0        Private          Urban             228.69  36.6  formerly smoked   \n",
       "1  Self-employed          Rural             202.21   NaN     never smoked   \n",
       "2        Private          Rural             105.92  32.5     never smoked   \n",
       "3        Private          Urban             171.23  34.4           smokes   \n",
       "4  Self-employed          Rural             174.12  24.0     never smoked   \n",
       "\n",
       "   stroke  \n",
       "0       1  \n",
       "1       1  \n",
       "2       1  \n",
       "3       1  \n",
       "4       1  "
      ]
     },
     "execution_count": 11,
     "metadata": {},
     "output_type": "execute_result"
    }
   ],
   "source": [
    "import pandas as pd\n",
    "url = 'https://docs.google.com/spreadsheets/d/e/2PACX-1vSL6N5Ag95sphKFojQBp-pJBbmZeIFFMPizEDHCdXomjDZWJJlEy0vlaEFQJYCzYK1JytY6JfxdppHO/pub?output=csv'\n",
    "df = pd.read_csv(url)\n",
    "df.head()"
   ]
  },
  {
   "cell_type": "markdown",
   "metadata": {
    "id": "X81cuqCnBsBd"
   },
   "source": [
    "### Is this a classification or regression problem?"
   ]
  },
  {
   "cell_type": "markdown",
   "metadata": {
    "id": "iOLR_1LHBvrr"
   },
   "source": [
    "This is a classification problem"
   ]
  },
  {
   "cell_type": "markdown",
   "metadata": {
    "id": "mGUH6tz3B5Hm"
   },
   "source": [
    "###  How many features does the data have?"
   ]
  },
  {
   "cell_type": "code",
   "execution_count": null,
   "metadata": {
    "colab": {
     "base_uri": "https://localhost:8080/"
    },
    "id": "0chPpZh7Cb7o",
    "outputId": "2c7669a4-1a78-4673-c7f4-59f655fe26fc"
   },
   "outputs": [],
   "source": [
    "df.shape"
   ]
  },
  {
   "cell_type": "markdown",
   "metadata": {
    "id": "xge-osT5Ca63"
   },
   "source": [
    "This dataset has 12 features"
   ]
  },
  {
   "cell_type": "markdown",
   "metadata": {
    "id": "buO8HSWzCiuE"
   },
   "source": [
    "### How many rows are in this dataset?\n"
   ]
  },
  {
   "cell_type": "markdown",
   "metadata": {
    "id": "mhHU-U7OCrAU"
   },
   "source": [
    "5110 rows"
   ]
  },
  {
   "cell_type": "markdown",
   "metadata": {
    "id": "SbRkdsSXCxO_"
   },
   "source": [
    "### What, if any, challenges do you foresee in cleaning, exploring, or modeling with this dataset?"
   ]
  },
  {
   "cell_type": "code",
   "execution_count": null,
   "metadata": {
    "colab": {
     "base_uri": "https://localhost:8080/"
    },
    "id": "P1KAblwmRzY3",
    "outputId": "737016ab-2ccf-4b26-e929-dd0bec4ab963"
   },
   "outputs": [],
   "source": [
    "#Investigating Missing Values\n",
    "df[df.isna().any(axis=1)].shape"
   ]
  },
  {
   "cell_type": "code",
   "execution_count": null,
   "metadata": {
    "colab": {
     "base_uri": "https://localhost:8080/"
    },
    "id": "2YYSDbVmDJYg",
    "outputId": "423fb2ad-f203-4c52-b537-4477e08620b0"
   },
   "outputs": [],
   "source": [
    "df.isna().sum()"
   ]
  },
  {
   "cell_type": "markdown",
   "metadata": {
    "id": "o3WPQ2sIDMEq"
   },
   "source": [
    "Moderate risk in resolving missing values on what is a key indicator for risk.  Error in inputation could ruin investigation."
   ]
  },
  {
   "cell_type": "markdown",
   "metadata": {
    "id": "EKnLdAkJDvrY"
   },
   "source": [
    "##Heart Failure Prediction Dataset"
   ]
  },
  {
   "cell_type": "code",
   "execution_count": null,
   "metadata": {
    "colab": {
     "base_uri": "https://localhost:8080/"
    },
    "id": "9ilfgo1sDiIb",
    "outputId": "03891da7-089a-449c-b397-6540c2ae9dd0"
   },
   "outputs": [],
   "source": [
    "from google.colab import drive\n",
    "drive.mount('/content/drive')"
   ]
  },
  {
   "cell_type": "markdown",
   "metadata": {
    "id": "__lu-roHD5P6"
   },
   "source": [
    "### Source of data:"
   ]
  },
  {
   "cell_type": "markdown",
   "metadata": {
    "id": "T3jYqjvkEBEj"
   },
   "source": [
    "https://www.kaggle.com/datasets/fedesoriano/heart-failure-prediction"
   ]
  },
  {
   "cell_type": "markdown",
   "metadata": {
    "id": "mGAh83WJEGkn"
   },
   "source": [
    "### Description:"
   ]
  },
  {
   "cell_type": "markdown",
   "metadata": {
    "id": "e3IrZOrzETcR"
   },
   "source": [
    "Cardiovascular diseases (CVDs) are the number 1 cause of death globally, taking an estimated 17.9 million lives each year, which accounts for 31% of all deaths worldwide. Four out of 5CVD deaths are due to heart attacks and strokes, and one-third of these deaths occur prematurely in people under 70 years of age. Heart failure is a common event caused by CVDs and this dataset contains 11 features that can be used to predict a possible heart disease.\n",
    "\n",
    "People with cardiovascular disease or who are at high cardiovascular risk (due to the presence of one or more risk factors such as hypertension, diabetes, hyperlipidaemia or already established disease) need early detection and management wherein a machine learning model can be of great help."
   ]
  },
  {
   "cell_type": "markdown",
   "metadata": {
    "id": "7U4ovs-CEblN"
   },
   "source": [
    "### Target"
   ]
  },
  {
   "cell_type": "markdown",
   "metadata": {
    "id": "xlTMPC9sEeYy"
   },
   "source": [
    "The target for this investigation is heart disease as a function of predicting heart failure"
   ]
  },
  {
   "cell_type": "markdown",
   "metadata": {
    "id": "WcdNyVDPFbN0"
   },
   "source": [
    "### What does one row represent?"
   ]
  },
  {
   "cell_type": "code",
   "execution_count": null,
   "metadata": {
    "colab": {
     "base_uri": "https://localhost:8080/",
     "height": 0
    },
    "id": "8-VuaIoBEgq0",
    "outputId": "e20c4c74-06db-430b-e49a-9fa7d49f1e46"
   },
   "outputs": [],
   "source": [
    "import pandas as pd\n",
    "filename = '/content/drive/MyDrive/CodingDojo/Beginning Data Science/Projects/heart.csv'\n",
    "df = pd.read_csv(filename)\n",
    "df.head(1)"
   ]
  },
  {
   "cell_type": "markdown",
   "metadata": {
    "id": "NSFimc07FhpZ"
   },
   "source": [
    "The row is an investigation of individuals presenting an array of condtions that fall in the domanin of heart disease"
   ]
  },
  {
   "cell_type": "markdown",
   "metadata": {
    "id": "1UIBrnt6FwM6"
   },
   "source": [
    "### Is this a classification or regression problem?"
   ]
  },
  {
   "cell_type": "markdown",
   "metadata": {
    "id": "TXz_TZ32FzaO"
   },
   "source": [
    "This is a classification problem since it is investigating those with and without heart disease"
   ]
  },
  {
   "cell_type": "markdown",
   "metadata": {
    "id": "7uVmungKF_ZI"
   },
   "source": [
    "### How many features does the data have?"
   ]
  },
  {
   "cell_type": "code",
   "execution_count": null,
   "metadata": {
    "colab": {
     "base_uri": "https://localhost:8080/"
    },
    "id": "Uh3EbDFYGCq3",
    "outputId": "ab63ef31-9fd0-4249-e387-c32faa328ae8"
   },
   "outputs": [],
   "source": [
    "df.shape"
   ]
  },
  {
   "cell_type": "markdown",
   "metadata": {
    "id": "1NnN33L5HbfA"
   },
   "source": [
    "There are 12 features"
   ]
  },
  {
   "cell_type": "markdown",
   "metadata": {
    "id": "vD0wNhY3HiK1"
   },
   "source": [
    "### How many rows are in this dataset?"
   ]
  },
  {
   "cell_type": "markdown",
   "metadata": {
    "id": "VHNcCP2aHqdq"
   },
   "source": [
    "There are 918 rows"
   ]
  },
  {
   "cell_type": "markdown",
   "metadata": {
    "id": "WyjDmXEbHyBM"
   },
   "source": [
    "### What, if any, challenges do you foresee in cleaning, exploring, or modeling with this dataset?"
   ]
  },
  {
   "cell_type": "code",
   "execution_count": null,
   "metadata": {
    "colab": {
     "base_uri": "https://localhost:8080/"
    },
    "id": "bd8RVjmUH5BW",
    "outputId": "99fd1dd2-e729-422b-d4fe-358dbe83ffba"
   },
   "outputs": [],
   "source": [
    "#Investigating Missing Values\n",
    "df[df.isna().any(axis=1)].shape"
   ]
  },
  {
   "cell_type": "code",
   "execution_count": null,
   "metadata": {
    "colab": {
     "base_uri": "https://localhost:8080/"
    },
    "id": "NoSZNzYQH_lr",
    "outputId": "030f3482-e70b-467e-dd70-0385cae92cf8"
   },
   "outputs": [],
   "source": [
    "df.isna().sum()"
   ]
  },
  {
   "cell_type": "code",
   "execution_count": null,
   "metadata": {
    "colab": {
     "base_uri": "https://localhost:8080/"
    },
    "id": "jQWTQvszIMLX",
    "outputId": "17c8c05f-c6bf-4869-8bee-a2af3e6f6137"
   },
   "outputs": [],
   "source": [
    "df.duplicated().sum()"
   ]
  },
  {
   "cell_type": "markdown",
   "metadata": {
    "id": "R8ANQLUgH27a"
   },
   "source": [
    "There doesnt appear to be major issue with this data frame"
   ]
  },
  {
   "cell_type": "markdown",
   "metadata": {
    "id": "XKiq2N182llA"
   },
   "source": [
    "\n",
    "\n",
    "---\n",
    "\n"
   ]
  },
  {
   "cell_type": "markdown",
   "metadata": {
    "id": "ACCfed9P2n1M"
   },
   "source": [
    "#Project2 - Part 2: Heart Failure Prediction Data Set"
   ]
  },
  {
   "cell_type": "markdown",
   "metadata": {
    "id": "zQDwhDuF39YE"
   },
   "source": [
    "### Import Library\n"
   ]
  },
  {
   "cell_type": "code",
   "execution_count": null,
   "metadata": {
    "id": "l9RtD6Au4A_V"
   },
   "outputs": [],
   "source": [
    "# import libraries\n",
    "import matplotlib.pyplot as plt\n",
    "import seaborn as sns\n",
    "import pandas as pd\n",
    "import numpy as np\n"
   ]
  },
  {
   "cell_type": "code",
   "execution_count": null,
   "metadata": {
    "colab": {
     "base_uri": "https://localhost:8080/"
    },
    "id": "zNC1WHFV28t4",
    "outputId": "a8ed55fe-7f25-4799-c779-154df6c9f137"
   },
   "outputs": [],
   "source": [
    "from google.colab import drive\n",
    "drive.mount('/content/drive')"
   ]
  },
  {
   "cell_type": "markdown",
   "metadata": {
    "id": "feO32CtP7lZJ"
   },
   "source": [
    "### Import Data Set"
   ]
  },
  {
   "cell_type": "code",
   "execution_count": null,
   "metadata": {
    "colab": {
     "base_uri": "https://localhost:8080/",
     "height": 250
    },
    "id": "FZrwlRru375c",
    "outputId": "a0651c4b-4683-4774-bc99-4aeae41ba633"
   },
   "outputs": [],
   "source": [
    "import pandas as pd\n",
    "filename = '/content/drive/MyDrive/CodingDojo/Beginning Data Science/Projects/heart.csv'\n",
    "df = pd.read_csv(filename)\n",
    "df.head()"
   ]
  },
  {
   "cell_type": "code",
   "execution_count": null,
   "metadata": {
    "colab": {
     "base_uri": "https://localhost:8080/"
    },
    "id": "Iml2qant7qkV",
    "outputId": "d15313ff-6b5c-4c58-9e09-5a8a457f4e2f"
   },
   "outputs": [],
   "source": [
    "# Display the number of rows and columns for the dataframe\n",
    "df.shape\n",
    "print(f'There are {df.shape[0]} rows, and {df.shape[1]} columns.')\n",
    "print(f'The rows represent {df.shape[0]} observations, and the columns represent {df.shape[1]-1} features and 1 target variable.')"
   ]
  },
  {
   "cell_type": "code",
   "execution_count": null,
   "metadata": {
    "colab": {
     "base_uri": "https://localhost:8080/"
    },
    "id": "HZg6sBDa8Tej",
    "outputId": "97ca85b8-bd5f-40dc-d626-2d944390feff"
   },
   "outputs": [],
   "source": [
    "# Display the column names and datatypes for each column\n",
    "# Columns with mixed datatypes are identified as an object datatype\n",
    "df.dtypes"
   ]
  },
  {
   "cell_type": "code",
   "execution_count": null,
   "metadata": {
    "colab": {
     "base_uri": "https://localhost:8080/"
    },
    "id": "f00QXAfI8bfQ",
    "outputId": "271190fd-ff23-4441-faea-88cdd88f4dec"
   },
   "outputs": [],
   "source": [
    "# Display the column names, count of non-null values, and their datatypes\n",
    "df.info()"
   ]
  },
  {
   "cell_type": "code",
   "execution_count": null,
   "metadata": {
    "colab": {
     "base_uri": "https://localhost:8080/",
     "height": 300
    },
    "id": "YIxIwXzx8jQL",
    "outputId": "53f04c67-320e-4756-d83f-87e0fb439402"
   },
   "outputs": [],
   "source": [
    "# Display the descriptive statistics for the numeric columns\n",
    "df.describe(include=\"number\") # or 'object'"
   ]
  },
  {
   "cell_type": "markdown",
   "metadata": {
    "id": "Zi-o56fq8vyE"
   },
   "source": [
    "### Clean the Data"
   ]
  },
  {
   "cell_type": "markdown",
   "metadata": {
    "id": "wPCluIOP8zd2"
   },
   "source": [
    "#### Remove Unnecessary Columns\n",
    "\n",
    "\n",
    "*   All Columns are needed\n",
    "\n",
    "\n"
   ]
  },
  {
   "cell_type": "markdown",
   "metadata": {
    "id": "wLpaNubo9H8n"
   },
   "source": [
    "#### Remove Unnecessary Rows\n",
    "Duplicates"
   ]
  },
  {
   "cell_type": "code",
   "execution_count": null,
   "metadata": {
    "colab": {
     "base_uri": "https://localhost:8080/"
    },
    "id": "uYF3KmT19RBD",
    "outputId": "a4db609d-6b8a-4459-9e1c-3c2ea77b618b"
   },
   "outputs": [],
   "source": [
    "# Display the number of duplicate rows in the dataset\n",
    "print(f'There are {df.duplicated().sum()} duplicate rows.')"
   ]
  },
  {
   "cell_type": "markdown",
   "metadata": {
    "id": "6ywJkq169fHs"
   },
   "source": [
    "####Inspect Column Datatypes for Errors"
   ]
  },
  {
   "cell_type": "markdown",
   "metadata": {
    "id": "Y1hkO3df5cwL"
   },
   "source": [
    "#Data Dictionary"
   ]
  },
  {
   "cell_type": "markdown",
   "metadata": {
    "id": "cVE9TR-b5iI6"
   },
   "source": [
    "#Attribute Information\n",
    "\n",
    "\n",
    "1.   Age: age of the patient [years]\n",
    "2.   Sex: sex of the patient [M: Male, F: Female]\n",
    "3.   ChestPainType: chest pain type [TA: Typical Angina, ATA: Atypical Angina, NAP: Non-Anginal Pain, ASY: Asymptomatic]\n",
    "4.   RestingBP: resting blood pressure [mm Hg]\n",
    "5.   Cholesterol: serum cholesterol [mm/dl]\n",
    "6.   FastingBS: fasting blood sugar [1: if FastingBS > 120 mg/dl, 0: otherwise]\n",
    "7.   RestingECG: resting electrocardiogram results [Normal: Normal, ST: having ST-T wave abnormality (T wave inversions and/or ST elevation or depression of > 0.05 mV), LVH: showing probable or definite left ventricular hypertrophy by Estes' criteria]\n",
    "8.   MaxHR: maximum heart rate achieved [Numeric value between 60 and 202]\n",
    "9.   ExerciseAngina: exercise-induced angina [Y: Yes, N: No]\n",
    "10.  Oldpeak: oldpeak = ST [Numeric value measured in depression]\n",
    "11.  ST_Slope: the slope of the peak exercise ST segment [Up: upsloping, Flat: flat, Down: downsloping]\n",
    "12.  HeartDisease: output class [1: heart disease, 0: Normal]\n",
    "\n",
    "\n",
    "\n",
    "\n",
    "\n",
    "\n",
    "\n",
    "\n",
    "\n",
    "\n",
    "\n",
    "\n"
   ]
  },
  {
   "cell_type": "code",
   "execution_count": null,
   "metadata": {
    "colab": {
     "base_uri": "https://localhost:8080/"
    },
    "id": "UOhEt7nu9pz4",
    "outputId": "04cc00f7-f762-4f64-d17c-41234c6834e7"
   },
   "outputs": [],
   "source": [
    "df.dtypes"
   ]
  },
  {
   "cell_type": "markdown",
   "metadata": {
    "id": "2HkpAREl-GYI"
   },
   "source": [
    "*Since there is not strict data dictionary on Kaggle this Attribute Information is the best possible guide.  All values seem to fit nicely within the given Dtype*"
   ]
  },
  {
   "cell_type": "markdown",
   "metadata": {
    "id": "iPPTpAp1-mbc"
   },
   "source": [
    "#### Inspect Column Names for Errors"
   ]
  },
  {
   "cell_type": "code",
   "execution_count": null,
   "metadata": {
    "colab": {
     "base_uri": "https://localhost:8080/"
    },
    "id": "cW6CzIvX-ruZ",
    "outputId": "dafc1a7b-fcd3-4c73-abed-fc5d989c0d26"
   },
   "outputs": [],
   "source": [
    "# Display column names\n",
    "df.columns"
   ]
  },
  {
   "cell_type": "markdown",
   "metadata": {
    "id": "2Z2fEgpV-3aa"
   },
   "source": [
    "No spaces or misspelled columns"
   ]
  },
  {
   "cell_type": "markdown",
   "metadata": {
    "id": "awhZkvRb_12T"
   },
   "source": [
    "####Examining Object Rows for Outliers"
   ]
  },
  {
   "cell_type": "code",
   "execution_count": null,
   "metadata": {
    "colab": {
     "base_uri": "https://localhost:8080/"
    },
    "id": "K1PBHYAzAS-Y",
    "outputId": "261596e7-73a5-41ad-9523-6dbb8077566f"
   },
   "outputs": [],
   "source": [
    "sel_obj = list(df.select_dtypes(include='object'))\n",
    "sel_obj"
   ]
  },
  {
   "cell_type": "code",
   "execution_count": null,
   "metadata": {
    "colab": {
     "base_uri": "https://localhost:8080/"
    },
    "id": "qWebyLkNAqrU",
    "outputId": "4c4b1c7f-de9b-470f-d7bc-bf340c8a1788"
   },
   "outputs": [],
   "source": [
    "df['Sex'].unique()"
   ]
  },
  {
   "cell_type": "code",
   "execution_count": null,
   "metadata": {
    "colab": {
     "base_uri": "https://localhost:8080/"
    },
    "id": "mCQmmErFAx9U",
    "outputId": "53f267aa-f69f-42c7-c1c8-101ea362457a"
   },
   "outputs": [],
   "source": [
    "df['ChestPainType'].unique()"
   ]
  },
  {
   "cell_type": "code",
   "execution_count": null,
   "metadata": {
    "colab": {
     "base_uri": "https://localhost:8080/"
    },
    "id": "WIDVBV3GA5BO",
    "outputId": "c45d46dc-e03d-49f3-b68c-d55486ee6b08"
   },
   "outputs": [],
   "source": [
    "df['RestingECG'].unique()"
   ]
  },
  {
   "cell_type": "code",
   "execution_count": null,
   "metadata": {
    "colab": {
     "base_uri": "https://localhost:8080/"
    },
    "id": "cg-LbCZSBGBb",
    "outputId": "14cad315-1957-47f6-f726-80e3b70f721f"
   },
   "outputs": [],
   "source": [
    "df['ExerciseAngina'].unique()"
   ]
  },
  {
   "cell_type": "code",
   "execution_count": null,
   "metadata": {
    "colab": {
     "base_uri": "https://localhost:8080/"
    },
    "id": "6GjL5gIxBP9L",
    "outputId": "448ce6ee-f17a-44a0-e7a3-a95b76f980fe"
   },
   "outputs": [],
   "source": [
    "df['ST_Slope'].unique()"
   ]
  },
  {
   "cell_type": "markdown",
   "metadata": {
    "id": "6YJNgWAZBXft"
   },
   "source": [
    "\n",
    "\n",
    "*   No unusual string values found\n",
    "\n",
    "\n"
   ]
  },
  {
   "cell_type": "markdown",
   "metadata": {
    "id": "PXACMmAp-_cI"
   },
   "source": [
    "#### Missing Values"
   ]
  },
  {
   "cell_type": "code",
   "execution_count": null,
   "metadata": {
    "colab": {
     "base_uri": "https://localhost:8080/"
    },
    "id": "IsAShJHY_C8M",
    "outputId": "e7858049-3398-4ce0-eb9f-133f33a57847"
   },
   "outputs": [],
   "source": [
    "# Display the total number of missing values\n",
    "print(f'There are {df.isna().sum().sum()} missing values.')"
   ]
  },
  {
   "cell_type": "markdown",
   "metadata": {
    "id": "VUH7T5Ne_JJI"
   },
   "source": [
    "\n",
    "\n",
    "*   No missing values means no imputing will be needed for this investigation\n",
    "\n"
   ]
  },
  {
   "cell_type": "markdown",
   "metadata": {
    "id": "RCOeUbeG_eP-"
   },
   "source": [
    "####Create a Copy of the Dataset"
   ]
  },
  {
   "cell_type": "code",
   "execution_count": null,
   "metadata": {
    "id": "hMLskcLmBv_2"
   },
   "outputs": [],
   "source": [
    "# Create a copy of the dataset for Modeling\n",
    "df_ml = df.copy()"
   ]
  },
  {
   "cell_type": "markdown",
   "metadata": {
    "id": "6bmA9lGPChDd"
   },
   "source": [
    "#Graphing Vizualizations"
   ]
  },
  {
   "cell_type": "code",
   "execution_count": null,
   "metadata": {
    "colab": {
     "base_uri": "https://localhost:8080/",
     "height": 958
    },
    "id": "Gdp4Ny__DGjB",
    "outputId": "5db24dc8-608e-4a57-c6c0-2461e14bcc2b"
   },
   "outputs": [],
   "source": [
    "sns.set_theme(style=\"ticks\")\n",
    "\n",
    "df = df_ml\n",
    "sns.pairplot(df, hue=\"HeartDisease\")\n",
    "print('Overview for the dataframe in reference to the target column of HeartDisease')"
   ]
  },
  {
   "cell_type": "code",
   "execution_count": null,
   "metadata": {
    "colab": {
     "base_uri": "https://localhost:8080/",
     "height": 302
    },
    "id": "5Hp9_27dGLrK",
    "outputId": "64cfb39d-d7f7-4d1f-e718-8697a20cfdab"
   },
   "outputs": [],
   "source": [
    "sns.boxplot(data=df, y='Cholesterol', x='Sex', notch=True)\n",
    "plt.show()\n",
    "print('You can see cholesterol is higher in Women but Men tend to defy categorical measurement due to higher number of outliers.')"
   ]
  },
  {
   "cell_type": "markdown",
   "metadata": {
    "id": "-QpgdJI0BSll"
   },
   "source": [
    "# Project2 - Part 3: Correlation"
   ]
  },
  {
   "cell_type": "code",
   "execution_count": null,
   "metadata": {
    "colab": {
     "base_uri": "https://localhost:8080/",
     "height": 250
    },
    "id": "oEV0c5gfCZfE",
    "outputId": "ef75271d-5090-4a1f-dfb5-c39906026285"
   },
   "outputs": [],
   "source": [
    "df_ml.head()"
   ]
  },
  {
   "cell_type": "code",
   "execution_count": null,
   "metadata": {
    "colab": {
     "base_uri": "https://localhost:8080/",
     "height": 269
    },
    "id": "fkX9fNA4DKT_",
    "outputId": "68e4c4b0-0eac-4bae-8401-f6d03b736900"
   },
   "outputs": [],
   "source": [
    "df_ml.corr()"
   ]
  },
  {
   "cell_type": "code",
   "execution_count": null,
   "metadata": {
    "colab": {
     "base_uri": "https://localhost:8080/",
     "height": 336
    },
    "id": "XJdMjZSoDYQ6",
    "outputId": "67879ca5-9380-469b-f050-3879a1c46f31"
   },
   "outputs": [],
   "source": [
    "sns.heatmap(df_ml.corr());"
   ]
  },
  {
   "cell_type": "code",
   "execution_count": null,
   "metadata": {
    "colab": {
     "base_uri": "https://localhost:8080/",
     "height": 627
    },
    "id": "oBA3wi8_Vd-V",
    "outputId": "507bb763-91fd-401d-f038-ba540c073c51"
   },
   "outputs": [],
   "source": [
    "f, ax = plt.subplots(figsize=(10,10)) # set the size that you'd like (width, height)\n",
    "plt.bar(df_ml['Age'],df_ml['Oldpeak'])\n",
    "plt.xlabel('Age Group')\n",
    "plt.ylabel(\"Oldpeak\")\n",
    "plt.title('Level of Oldpeak per Age Group')\n",
    "plt.show()"
   ]
  },
  {
   "cell_type": "markdown",
   "metadata": {
    "id": "TRF-CprkXQdz"
   },
   "source": [
    "*oldpeak: ST depression induced by exercise relative to rest ('ST' relates to positions on the ECG plot. This is a numerical value as related to the above"
   ]
  },
  {
   "cell_type": "markdown",
   "metadata": {
    "id": "OiKW_G2EXVqT"
   },
   "source": [
    "### OldPeak has high correlation with Heart Disease the above graph illustrates the values among age group.  This diagnostic measures the slope positive or negative from an ekg after exercise"
   ]
  },
  {
   "cell_type": "code",
   "execution_count": null,
   "metadata": {
    "colab": {
     "base_uri": "https://localhost:8080/",
     "height": 528
    },
    "id": "0TQVGl9aZSWy",
    "outputId": "8c8a753f-8b6d-459c-e862-a5f761aade3b"
   },
   "outputs": [],
   "source": [
    "sns.countplot(x=\"Oldpeak\", hue=\"HeartDisease\", data=df_ml)\n",
    "sns.set(rc={'figure.figsize':(30,10)})\n",
    "\n",
    "#sns.countplot(y='HeartDisease',hue='Oldpeak',data=df)\n",
    "#sns.set(rc={'figure.figsize':(10,10)})\n",
    "#plt.xticks(rotation=90)\n",
    "#plt.title('Medals by Gender in each Discipline')\n",
    "#plt.legend(loc=1)  # 1 is code for 'upper right'3\n"
   ]
  },
  {
   "cell_type": "markdown",
   "metadata": {
    "id": "MybHJZ2deMtY"
   },
   "source": [
    "###Per the previous graph you can see incidence of heart disease as it correlates with different values of Oldpeak.  The value of 0 has the highest incidence of heart disease but also the highest incidence of testing negative.  As oldpeak rises we see those testing negative plummeting.  We can reasonably infer this is an inflection point between those who have heart disease and those who are about to get it."
   ]
  }
 ],
 "metadata": {
  "colab": {
   "authorship_tag": "ABX9TyOuA+PJZVym22zZWBhhhy9+",
   "collapsed_sections": [
    "Khtj7D1y3AmP"
   ],
   "include_colab_link": true,
   "provenance": [],
   "toc_visible": true
  },
  "kernelspec": {
   "display_name": "Python 3 (ipykernel)",
   "language": "python",
   "name": "python3"
  },
  "language_info": {
   "codemirror_mode": {
    "name": "ipython",
    "version": 3
   },
   "file_extension": ".py",
   "mimetype": "text/x-python",
   "name": "python",
   "nbconvert_exporter": "python",
   "pygments_lexer": "ipython3",
   "version": "3.9.15"
  },
  "toc": {
   "base_numbering": 1,
   "nav_menu": {},
   "number_sections": false,
   "sideBar": true,
   "skip_h1_title": false,
   "title_cell": "Table of Contents",
   "title_sidebar": "Contents",
   "toc_cell": false,
   "toc_position": {},
   "toc_section_display": true,
   "toc_window_display": false
  }
 },
 "nbformat": 4,
 "nbformat_minor": 1
}
